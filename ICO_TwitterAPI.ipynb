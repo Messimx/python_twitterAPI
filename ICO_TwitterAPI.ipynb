{
 "cells": [
  {
   "cell_type": "code",
   "execution_count": 6,
   "metadata": {},
   "outputs": [
    {
     "name": "stdout",
     "output_type": "stream",
     "text": [
      "Collecting python-twitter\n",
      "  Downloading python-twitter-3.3.tar.gz (84kB)\n",
      "Collecting future (from python-twitter)\n",
      "  Downloading future-0.16.0.tar.gz (824kB)\n",
      "Requirement already satisfied: requests in c:\\users\\messi\\appdata\\local\\continuum\\anaconda3\\lib\\site-packages (from python-twitter)\n",
      "Collecting requests-oauthlib (from python-twitter)\n",
      "  Downloading requests_oauthlib-0.8.0-py2.py3-none-any.whl\n",
      "Collecting oauthlib>=0.6.2 (from requests-oauthlib->python-twitter)\n",
      "  Downloading oauthlib-2.0.2.tar.gz (125kB)\n",
      "Building wheels for collected packages: python-twitter, future, oauthlib\n",
      "  Running setup.py bdist_wheel for python-twitter: started\n",
      "  Running setup.py bdist_wheel for python-twitter: finished with status 'done'\n",
      "  Stored in directory: C:\\Users\\Messi\\AppData\\Local\\pip\\Cache\\wheels\\09\\5e\\2d\\51778487f351ce64b0db5d8275dacb5d0b1590a843f6eef630\n",
      "  Running setup.py bdist_wheel for future: started\n",
      "  Running setup.py bdist_wheel for future: finished with status 'done'\n",
      "  Stored in directory: C:\\Users\\Messi\\AppData\\Local\\pip\\Cache\\wheels\\c2\\50\\7c\\0d83b4baac4f63ff7a765bd16390d2ab43c93587fac9d6017a\n",
      "  Running setup.py bdist_wheel for oauthlib: started\n",
      "  Running setup.py bdist_wheel for oauthlib: finished with status 'done'\n",
      "  Stored in directory: C:\\Users\\Messi\\AppData\\Local\\pip\\Cache\\wheels\\84\\98\\7a\\fba7268f61097bea6081cbe5480bc439b38975748ea7684fd5\n",
      "Successfully built python-twitter future oauthlib\n",
      "Installing collected packages: future, oauthlib, requests-oauthlib, python-twitter\n",
      "Successfully installed future-0.16.0 oauthlib-2.0.2 python-twitter-3.3 requests-oauthlib-0.8.0\n"
     ]
    }
   ],
   "source": [
    "!pip install python-twitter"
   ]
  },
  {
   "cell_type": "code",
   "execution_count": 8,
   "metadata": {},
   "outputs": [
    {
     "name": "stdout",
     "output_type": "stream",
     "text": [
      "Requirement already up-to-date: future in c:\\users\\messi\\appdata\\local\\continuum\\anaconda3\\lib\\site-packages (from -r requirements.testing.txt (line 1))\n",
      "Collecting requests (from -r requirements.testing.txt (line 2))\n",
      "  Downloading requests-2.18.4-py2.py3-none-any.whl (88kB)\n",
      "Requirement already up-to-date: requests_oauthlib in c:\\users\\messi\\appdata\\local\\continuum\\anaconda3\\lib\\site-packages (from -r requirements.testing.txt (line 3))\n",
      "Collecting responses (from -r requirements.testing.txt (line 4))\n",
      "  Downloading responses-0.7.0-py2.py3-none-any.whl\n",
      "Collecting pytest (from -r requirements.testing.txt (line 6))\n",
      "  Downloading pytest-3.2.1-py2.py3-none-any.whl (186kB)\n",
      "Collecting pytest-cov (from -r requirements.testing.txt (line 7))\n",
      "  Downloading pytest_cov-2.5.1-py2.py3-none-any.whl\n",
      "Collecting pytest-runner (from -r requirements.testing.txt (line 8))\n",
      "  Downloading pytest_runner-2.12-py2.py3-none-any.whl\n",
      "Collecting mccabe (from -r requirements.testing.txt (line 9))\n",
      "  Downloading mccabe-0.6.1-py2.py3-none-any.whl\n",
      "Collecting mock (from -r requirements.testing.txt (line 10))\n",
      "  Downloading mock-2.0.0-py2.py3-none-any.whl (56kB)\n",
      "Requirement already up-to-date: six in c:\\users\\messi\\appdata\\local\\continuum\\anaconda3\\lib\\site-packages (from -r requirements.testing.txt (line 11))\n",
      "Collecting coverage (from -r requirements.testing.txt (line 12))\n",
      "  Downloading coverage-4.4.1-cp36-cp36m-win_amd64.whl (174kB)\n",
      "Collecting coveralls (from -r requirements.testing.txt (line 13))\n",
      "  Downloading coveralls-1.2.0-py2.py3-none-any.whl\n",
      "Collecting codecov (from -r requirements.testing.txt (line 14))\n",
      "  Downloading codecov-2.0.9-py2.py3-none-any.whl\n",
      "Collecting check-manifest (from -r requirements.testing.txt (line 15))\n",
      "  Downloading check_manifest-0.35-py2.py3-none-any.whl\n",
      "Collecting tox (from -r requirements.testing.txt (line 16))\n",
      "  Downloading tox-2.8.1-py2.py3-none-any.whl (51kB)\n",
      "Collecting tox-pyenv (from -r requirements.testing.txt (line 17))\n",
      "  Downloading tox_pyenv-1.1.0-py2.py3-none-any.whl\n",
      "Collecting pycodestyle (from -r requirements.testing.txt (line 18))\n",
      "  Downloading pycodestyle-2.3.1-py2.py3-none-any.whl (45kB)\n",
      "Collecting chardet<3.1.0,>=3.0.2 (from requests->-r requirements.testing.txt (line 2))\n",
      "  Downloading chardet-3.0.4-py2.py3-none-any.whl (133kB)\n",
      "Collecting certifi>=2017.4.17 (from requests->-r requirements.testing.txt (line 2))\n",
      "  Downloading certifi-2017.7.27.1-py2.py3-none-any.whl (349kB)\n",
      "Collecting urllib3<1.23,>=1.21.1 (from requests->-r requirements.testing.txt (line 2))\n",
      "  Downloading urllib3-1.22-py2.py3-none-any.whl (132kB)\n",
      "Collecting idna<2.7,>=2.5 (from requests->-r requirements.testing.txt (line 2))\n",
      "  Downloading idna-2.6-py2.py3-none-any.whl (56kB)\n",
      "Requirement already up-to-date: oauthlib>=0.6.2 in c:\\users\\messi\\appdata\\local\\continuum\\anaconda3\\lib\\site-packages (from requests_oauthlib->-r requirements.testing.txt (line 3))\n",
      "Collecting cookies (from responses->-r requirements.testing.txt (line 4))\n",
      "  Downloading cookies-2.2.1-py2.py3-none-any.whl (44kB)\n",
      "Collecting setuptools (from pytest->-r requirements.testing.txt (line 6))\n",
      "  Downloading setuptools-36.4.0-py2.py3-none-any.whl (478kB)\n",
      "Collecting py>=1.4.33 (from pytest->-r requirements.testing.txt (line 6))\n",
      "  Downloading py-1.4.34-py2.py3-none-any.whl (84kB)\n",
      "Requirement already up-to-date: colorama; sys_platform == \"win32\" in c:\\users\\messi\\appdata\\local\\continuum\\anaconda3\\lib\\site-packages (from pytest->-r requirements.testing.txt (line 6))\n",
      "Collecting pbr>=0.11 (from mock->-r requirements.testing.txt (line 10))\n",
      "  Downloading pbr-3.1.1-py2.py3-none-any.whl (99kB)\n",
      "Collecting docopt>=0.6.1 (from coveralls->-r requirements.testing.txt (line 13))\n",
      "  Downloading docopt-0.6.2.tar.gz\n",
      "Collecting virtualenv>=1.11.2; python_version != \"3.2\" (from tox->-r requirements.testing.txt (line 16))\n",
      "  Downloading virtualenv-15.1.0-py2.py3-none-any.whl (1.8MB)\n",
      "Collecting pluggy<1.0,>=0.3.0 (from tox->-r requirements.testing.txt (line 16))\n",
      "  Downloading pluggy-0.5.1.tar.gz\n",
      "Building wheels for collected packages: docopt, pluggy\n",
      "  Running setup.py bdist_wheel for docopt: started\n",
      "  Running setup.py bdist_wheel for docopt: finished with status 'done'\n",
      "  Stored in directory: C:\\Users\\Messi\\AppData\\Local\\pip\\Cache\\wheels\\b2\\16\\5f\\c33a2bb5f2dce71205f8e65cbfd05647d79d441282be31fd82\n",
      "  Running setup.py bdist_wheel for pluggy: started\n",
      "  Running setup.py bdist_wheel for pluggy: finished with status 'done'\n",
      "  Stored in directory: C:\\Users\\Messi\\AppData\\Local\\pip\\Cache\\wheels\\4d\\a0\\72\\19699579af8f1f30c060b66244522ceba68cfe38447bb84a6c\n",
      "Successfully built docopt pluggy\n",
      "Installing collected packages: chardet, certifi, urllib3, idna, requests, cookies, responses, setuptools, py, pytest, coverage, pytest-cov, pytest-runner, mccabe, pbr, mock, docopt, coveralls, codecov, check-manifest, virtualenv, pluggy, tox, tox-pyenv, pycodestyle\n",
      "  Found existing installation: chardet 3.0.3\n",
      "    Uninstalling chardet-3.0.3:\n",
      "      Successfully uninstalled chardet-3.0.3\n",
      "  Found existing installation: idna 2.5\n",
      "    Uninstalling idna-2.5:\n",
      "      Successfully uninstalled idna-2.5\n",
      "  Found existing installation: requests 2.14.2\n",
      "    Uninstalling requests-2.14.2:\n",
      "      Successfully uninstalled requests-2.14.2\n",
      "  Found existing installation: setuptools 27.2.0\n",
      "    Uninstalling setuptools-27.2.0:\n",
      "      Successfully uninstalled setuptools-27.2.0\n",
      "  Found existing installation: py 1.4.33\n",
      "    Uninstalling py-1.4.33:\n",
      "      Successfully uninstalled py-1.4.33\n",
      "  Found existing installation: pytest 3.0.7\n",
      "    Uninstalling pytest-3.0.7:\n",
      "      Successfully uninstalled pytest-3.0.7\n",
      "Successfully installed certifi-2017.7.27.1 chardet-3.0.4 check-manifest-0.35 codecov-2.0.9 cookies-2.2.1 coverage-4.4.1 coveralls-1.2.0 docopt-0.6.2 idna-2.6 mccabe-0.6.1 mock-2.0.0 pbr-3.1.1 pluggy-0.5.1 py-1.4.34 pycodestyle-2.3.1 pytest-3.2.1 pytest-cov-2.5.1 pytest-runner-2.12 requests-2.18.4 responses-0.7.0 setuptools-36.4.0 tox-2.8.1 tox-pyenv-1.1.0 urllib3-1.22 virtualenv-15.1.0\n"
     ]
    },
    {
     "name": "stderr",
     "output_type": "stream",
     "text": [
      "Traceback (most recent call last):\n",
      "  File \"C:\\Users\\Messi\\AppData\\Local\\Continuum\\Anaconda3\\Scripts\\pip-script.py\", line 5, in <module>\n",
      "    sys.exit(pip.main())\n",
      "  File \"C:\\Users\\Messi\\AppData\\Local\\Continuum\\Anaconda3\\lib\\site-packages\\pip\\__init__.py\", line 249, in main\n",
      "    return command.main(cmd_args)\n",
      "  File \"C:\\Users\\Messi\\AppData\\Local\\Continuum\\Anaconda3\\lib\\site-packages\\pip\\basecommand.py\", line 252, in main\n",
      "    pip_version_check(session)\n",
      "  File \"C:\\Users\\Messi\\AppData\\Local\\Continuum\\Anaconda3\\lib\\site-packages\\pip\\utils\\outdated.py\", line 102, in pip_version_check\n",
      "    installed_version = get_installed_version(\"pip\")\n",
      "  File \"C:\\Users\\Messi\\AppData\\Local\\Continuum\\Anaconda3\\lib\\site-packages\\pip\\utils\\__init__.py\", line 838, in get_installed_version\n",
      "    working_set = pkg_resources.WorkingSet()\n",
      "  File \"C:\\Users\\Messi\\AppData\\Local\\Continuum\\Anaconda3\\lib\\site-packages\\pip\\_vendor\\pkg_resources\\__init__.py\", line 644, in __init__\n",
      "    self.add_entry(entry)\n",
      "  File \"C:\\Users\\Messi\\AppData\\Local\\Continuum\\Anaconda3\\lib\\site-packages\\pip\\_vendor\\pkg_resources\\__init__.py\", line 700, in add_entry\n",
      "    for dist in find_distributions(entry, True):\n",
      "  File \"C:\\Users\\Messi\\AppData\\Local\\Continuum\\Anaconda3\\lib\\site-packages\\pip\\_vendor\\pkg_resources\\__init__.py\", line 1949, in find_eggs_in_zip\n",
      "    if metadata.has_metadata('PKG-INFO'):\n",
      "  File \"C:\\Users\\Messi\\AppData\\Local\\Continuum\\Anaconda3\\lib\\site-packages\\pip\\_vendor\\pkg_resources\\__init__.py\", line 1463, in has_metadata\n",
      "    return self.egg_info and self._has(self._fn(self.egg_info, name))\n",
      "  File \"C:\\Users\\Messi\\AppData\\Local\\Continuum\\Anaconda3\\lib\\site-packages\\pip\\_vendor\\pkg_resources\\__init__.py\", line 1823, in _has\n",
      "    return zip_path in self.zipinfo or zip_path in self._index()\n",
      "  File \"C:\\Users\\Messi\\AppData\\Local\\Continuum\\Anaconda3\\lib\\site-packages\\pip\\_vendor\\pkg_resources\\__init__.py\", line 1703, in zipinfo\n",
      "    return self._zip_manifests.load(self.loader.archive)\n",
      "  File \"C:\\Users\\Messi\\AppData\\Local\\Continuum\\Anaconda3\\lib\\site-packages\\pip\\_vendor\\pkg_resources\\__init__.py\", line 1643, in load\n",
      "    mtime = os.stat(path).st_mtime\n",
      "FileNotFoundError: [WinError 2] The system cannot find the file specified: 'C:\\\\Users\\\\Messi\\\\AppData\\\\Local\\\\Continuum\\\\Anaconda3\\\\lib\\\\site-packages\\\\setuptools-27.2.0-py3.6.egg'\n"
     ]
    },
    {
     "name": "stdout",
     "output_type": "stream",
     "text": [
      "Requirement already up-to-date: future in c:\\users\\messi\\appdata\\local\\continuum\\anaconda3\\lib\\site-packages (from -r requirements.txt (line 1))\n",
      "Requirement already up-to-date: requests in c:\\users\\messi\\appdata\\local\\continuum\\anaconda3\\lib\\site-packages (from -r requirements.txt (line 2))\n",
      "Requirement already up-to-date: requests_oauthlib in c:\\users\\messi\\appdata\\local\\continuum\\anaconda3\\lib\\site-packages (from -r requirements.txt (line 3))\n",
      "Requirement already up-to-date: idna<2.7,>=2.5 in c:\\users\\messi\\appdata\\local\\continuum\\anaconda3\\lib\\site-packages (from requests->-r requirements.txt (line 2))\n",
      "Requirement already up-to-date: urllib3<1.23,>=1.21.1 in c:\\users\\messi\\appdata\\local\\continuum\\anaconda3\\lib\\site-packages (from requests->-r requirements.txt (line 2))\n",
      "Requirement already up-to-date: chardet<3.1.0,>=3.0.2 in c:\\users\\messi\\appdata\\local\\continuum\\anaconda3\\lib\\site-packages (from requests->-r requirements.txt (line 2))\n",
      "Requirement already up-to-date: certifi>=2017.4.17 in c:\\users\\messi\\appdata\\local\\continuum\\anaconda3\\lib\\site-packages (from requests->-r requirements.txt (line 2))\n",
      "Requirement already up-to-date: oauthlib>=0.6.2 in c:\\users\\messi\\appdata\\local\\continuum\\anaconda3\\lib\\site-packages (from requests_oauthlib->-r requirements.txt (line 3))\n"
     ]
    }
   ],
   "source": [
    "! pip install -Ur requirements.testing.txt\n",
    "! pip install -Ur requirements.txt"
   ]
  },
  {
   "cell_type": "code",
   "execution_count": 9,
   "metadata": {},
   "outputs": [
    {
     "name": "stdout",
     "output_type": "stream",
     "text": [
      "Requirement already up-to-date: future in c:\\users\\messi\\appdata\\local\\continuum\\anaconda3\\lib\\site-packages (from -r requirements.txt (line 1))\n",
      "Requirement already up-to-date: requests in c:\\users\\messi\\appdata\\local\\continuum\\anaconda3\\lib\\site-packages (from -r requirements.txt (line 2))\n",
      "Requirement already up-to-date: requests_oauthlib in c:\\users\\messi\\appdata\\local\\continuum\\anaconda3\\lib\\site-packages (from -r requirements.txt (line 3))\n",
      "Requirement already up-to-date: urllib3<1.23,>=1.21.1 in c:\\users\\messi\\appdata\\local\\continuum\\anaconda3\\lib\\site-packages (from requests->-r requirements.txt (line 2))\n",
      "Requirement already up-to-date: chardet<3.1.0,>=3.0.2 in c:\\users\\messi\\appdata\\local\\continuum\\anaconda3\\lib\\site-packages (from requests->-r requirements.txt (line 2))\n",
      "Requirement already up-to-date: idna<2.7,>=2.5 in c:\\users\\messi\\appdata\\local\\continuum\\anaconda3\\lib\\site-packages (from requests->-r requirements.txt (line 2))\n",
      "Requirement already up-to-date: certifi>=2017.4.17 in c:\\users\\messi\\appdata\\local\\continuum\\anaconda3\\lib\\site-packages (from requests->-r requirements.txt (line 2))\n",
      "Requirement already up-to-date: oauthlib>=0.6.2 in c:\\users\\messi\\appdata\\local\\continuum\\anaconda3\\lib\\site-packages (from requests_oauthlib->-r requirements.txt (line 3))\n"
     ]
    }
   ],
   "source": [
    "!pip install -Ur requirements.txt"
   ]
  },
  {
   "cell_type": "code",
   "execution_count": 10,
   "metadata": {},
   "outputs": [
    {
     "name": "stdout",
     "output_type": "stream",
     "text": [
      "Help on class Category in twitter:\n",
      "\n",
      "twitter.Category = class Category(TwitterModel)\n",
      " |  A class representing the suggested user category structure.\n",
      " |  \n",
      " |  Method resolution order:\n",
      " |      Category\n",
      " |      TwitterModel\n",
      " |      builtins.object\n",
      " |  \n",
      " |  Methods defined here:\n",
      " |  \n",
      " |  __init__(self, **kwargs)\n",
      " |      Initialize self.  See help(type(self)) for accurate signature.\n",
      " |  \n",
      " |  __repr__(self)\n",
      " |      Return repr(self).\n",
      " |  \n",
      " |  ----------------------------------------------------------------------\n",
      " |  Methods inherited from TwitterModel:\n",
      " |  \n",
      " |  AsDict(self)\n",
      " |      Create a dictionary representation of the object. Please see inline\n",
      " |      comments on construction when dictionaries contain TwitterModels.\n",
      " |  \n",
      " |  AsJsonString(self)\n",
      " |      Returns the TwitterModel as a JSON string based on key/value\n",
      " |      pairs returned from the AsDict() method.\n",
      " |  \n",
      " |  __eq__(self, other)\n",
      " |      Return self==value.\n",
      " |  \n",
      " |  __hash__(self)\n",
      " |      Return hash(self).\n",
      " |  \n",
      " |  __ne__(self, other)\n",
      " |      Return self!=value.\n",
      " |  \n",
      " |  __str__(self)\n",
      " |      Returns a string representation of TwitterModel. By default\n",
      " |      this is the same as AsJsonString().\n",
      " |  \n",
      " |  ----------------------------------------------------------------------\n",
      " |  Class methods inherited from TwitterModel:\n",
      " |  \n",
      " |  NewFromJsonDict(data, **kwargs) from builtins.type\n",
      " |      Create a new instance based on a JSON dict. Any kwargs should be\n",
      " |      supplied by the inherited, calling class.\n",
      " |      \n",
      " |      Args:\n",
      " |          data: A JSON dict, as converted from the JSON in the twitter API.\n",
      " |  \n",
      " |  ----------------------------------------------------------------------\n",
      " |  Data descriptors inherited from TwitterModel:\n",
      " |  \n",
      " |  __dict__\n",
      " |      dictionary for instance variables (if defined)\n",
      " |  \n",
      " |  __weakref__\n",
      " |      list of weak references to the object (if defined)\n",
      "\n"
     ]
    }
   ],
   "source": [
    "! pydoc twitter.Category"
   ]
  },
  {
   "cell_type": "code",
   "execution_count": 11,
   "metadata": {
    "collapsed": true
   },
   "outputs": [],
   "source": [
    "import twitter\n",
    "api = twitter.Api(consumer_key=\"2UuslDbKwUFXkrIc1bN0sih4x\",\n",
    "                  consumer_secret=\"bW11y7WmH8QO2FSUvN1YtEh9G3HT63V5MatudeKct6w3h2U6Jt\",\n",
    "                  access_token_key=\"771040623486959616-vBMmlhfOX0E8XZ2exnHxJGz9IDVBsj8\",\n",
    "                  access_token_secret=\"yR3DfukWxipCtkWLHuZTXGhyxBy8KGkxxFQ6AVbRUB4Gc\")"
   ]
  },
  {
   "cell_type": "code",
   "execution_count": 12,
   "metadata": {},
   "outputs": [
    {
     "name": "stdout",
     "output_type": "stream",
     "text": [
      "{\"created_at\": \"Wed Aug 31 17:43:04 +0000 2016\", \"default_profile\": true, \"favourites_count\": 2, \"followers_count\": 3, \"friends_count\": 28, \"id\": 771040623486959616, \"lang\": \"zh-cn\", \"name\": \"Xi Mei\", \"profile_background_color\": \"F5F8FA\", \"profile_image_url\": \"http://pbs.twimg.com/profile_images/771041075314163713/zRxq2zoz_normal.jpg\", \"profile_link_color\": \"1DA1F2\", \"profile_sidebar_fill_color\": \"DDEEF6\", \"profile_text_color\": \"333333\", \"screen_name\": \"XiXm518\", \"status\": {\"created_at\": \"Mon Apr 10 22:42:56 +0000 2017\", \"favorite_count\": 1, \"id\": 851566195455217664, \"id_str\": \"851566195455217664\", \"in_reply_to_screen_name\": \"united\", \"in_reply_to_status_id\": 851471781827420160, \"in_reply_to_user_id\": 260907612, \"lang\": \"en\", \"source\": \"<a href=\\\"http://twitter.com/download/iphone\\\" rel=\\\"nofollow\\\">Twitter for iPhone</a>\", \"text\": \"@united Arrogant apology. Hope you go bankrupt tomorrow.\"}, \"statuses_count\": 1}\n"
     ]
    }
   ],
   "source": [
    "print(api.VerifyCredentials())"
   ]
  },
  {
   "cell_type": "code",
   "execution_count": 15,
   "metadata": {},
   "outputs": [
    {
     "name": "stdout",
     "output_type": "stream",
     "text": [
      "[\"Hey, I am testing Twitter's API. Let's see if it is gonna work!\", '@united Arrogant apology. Hope you go bankrupt tomorrow.']\n"
     ]
    }
   ],
   "source": [
    "statuses = api.GetUserTimeline(screen_name=\"XiXm518\")\n",
    "print([s.text for s in statuses])"
   ]
  },
  {
   "cell_type": "code",
   "execution_count": 16,
   "metadata": {},
   "outputs": [
    {
     "name": "stdout",
     "output_type": "stream",
     "text": [
      "['Vitalik Buterin', 'Adrian Wojnarowski', 'lolesports', 'Donald J. Trump', 'Carmelo Anthony', 'Chris Paul', 'Kevin Durant', 'jimmy fallon', 'YouTube', 'NBA', 'Kobe Bryant', 'DWade', 'League of Legends', 'LeBron James', 'Barack Obama', 'Ellen DeGeneres', 'Ariana Grande', 'Rihanna', 'KATY PERRY', 'ESPN', 'Stephen Curry', 'Kim Kardashian West', 'City of New York', 'Foot Locker', 'Jordan', 'Twitch @ PAX West', 'Gothamist', 'Nike.com']\n"
     ]
    }
   ],
   "source": [
    "users = api.GetFriends()\n",
    "print([u.name for u in users])"
   ]
  },
  {
   "cell_type": "code",
   "execution_count": 17,
   "metadata": {},
   "outputs": [
    {
     "name": "stdout",
     "output_type": "stream",
     "text": [
      "I love python-twitter!\n"
     ]
    }
   ],
   "source": [
    "status = api.PostUpdate('I love python-twitter!')\n",
    "print(status.text)"
   ]
  },
  {
   "cell_type": "code",
   "execution_count": 28,
   "metadata": {},
   "outputs": [
    {
     "name": "stdout",
     "output_type": "stream",
     "text": [
      "['@bitcoin_gr Καλη ευκαιρια για αλλαγη FIAT --&gt; BTC/alts  , αν εχεις βεβαια FIAT...:)', 'RT @wirelineio: #Bitcoin price corrects on China news, uptrend still intact https://t.co/I8P7nrAbTJ via @CoinDesk', 'Now would be a good time to buy cheap #Bitcoin. Buy the dip. If you did when I said so in May you would be up 300% https://t.co/LF8TQlyV3X', 'China bans ICOs. \"90 percent of the ICOs launched on the mainland were found to have been fraudulent.\" https://t.co/g3pHe8GI2a', 'Der Bitcoin auf\\xa0Rekordniveau. https://t.co/1jVIpMTMUv https://t.co/KRRb4Q9fV5', 'RT @trackrim: Big news: The Trackr desktop client has been announced! ICO has raised 500+ ETH, 10 days left! https://t.co/BJOGyl9BYa  #ethe…', 'RT @CryptoGodzilla: #Crypto #Bitcoin #Ethereum #NEO #Cryptocurrencies #Cryptocurrency #China $NEO $ETH $BTC https://t.co/38K4vq1pk0', 'RT @_Hypron: #bitcoin #ico #pboc https://t.co/CNO0jK1cpN', 'RT @uooMAG_ICO: uooMAG: Token #Crowdfund #ICO now live.  Join in with #bitcoin $btc #ethereum $eth $waves https://t.co/8MQyYdgFrr https://t…', 'RT @BTCticker: One Bitcoin now worth $4250.97@bitstamp. High $4624.72. Low $4058.50. Market Cap $70.320 Billion #bitcoin https://t.co/YxMQp…', 'RT @Cointelegraph: Australian Government Authorizing Bitcoin as Legal Currency Attracted Gold and Bullion Investor https://t.co/ALQAWAwNYq', 'Coinboard: Internet Archive and Overstock to ‘Hodl’ More #Bitcoin Revenue and Donations https://t.co/7fMSAiE5zl v… https://t.co/IG54GjIKdA', 'Ethereum, Bitcoin Crash After China Declares Initial Coin Offerings Illegal | Zero Hedge https://t.co/rzDHMi8T9M', 'Revisamos el pool de minería https://t.co/KA4PSyK9vq. https://t.co/5tvi0aj6OE', 'RT @GoedkoopBitcoin: Goedkoopste bitcoin nu te koop voor €3608,57, ga naar https://t.co/zYrSRAI8qJ #bitcoin']\n"
     ]
    }
   ],
   "source": [
    "results = api.GetSearch(\n",
    "    raw_query=\"q=bitcoin&src=typd\")\n",
    "print([info.text for info in results])"
   ]
  },
  {
   "cell_type": "code",
   "execution_count": 29,
   "metadata": {},
   "outputs": [
    {
     "data": {
      "text/plain": [
       "15"
      ]
     },
     "execution_count": 29,
     "metadata": {},
     "output_type": "execute_result"
    }
   ],
   "source": [
    "len(results)"
   ]
  }
 ],
 "metadata": {
  "kernelspec": {
   "display_name": "Python 3",
   "language": "python",
   "name": "python3"
  },
  "language_info": {
   "codemirror_mode": {
    "name": "ipython",
    "version": 3
   },
   "file_extension": ".py",
   "mimetype": "text/x-python",
   "name": "python",
   "nbconvert_exporter": "python",
   "pygments_lexer": "ipython3",
   "version": "3.6.1"
  }
 },
 "nbformat": 4,
 "nbformat_minor": 2
}
